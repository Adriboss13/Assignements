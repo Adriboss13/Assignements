{
  "cells": [
    {
      "cell_type": "markdown",
      "metadata": {
        "id": "eOEJIIT0DR_1"
      },
      "source": [
        "# Tweet classification with naive bayes\n",
        "\n",
        "For this notebook we are going to implement a naive bayes classifier for classifying positive or negative based on the words in the tweet. Recall that for two events A and B the bayes theorem says\n",
        "\n",
        "$$ P(A|B) = \\frac{P(B|A)P(A)}{P(B)} $$\n",
        "\n",
        "where P(A) and P(B) is the ***class probabilities*** and P(B|A) is called ***conditional probabilities***. this gives us the probability of A happening, given that B has occurred. So as an example if we want to find the probability of \"is this a positive tweet given that it contains the word \"good\" \" we will obtain the following\n",
        "\n",
        "$$ P(\\text{``positive\"}|\\text{``good\" in tweet}) = \\frac{P(\\text{``good\" in tweet}|\\text{``positive\"})P(\\text{``positive\"})}{P(\\text{``good\" in tweet})} $$\n",
        "\n",
        "This means that to find the probability of \"is this a positive tweet given that it contains the word \"good\" \" we need the probability of \"good\" being in a positive tweet, the probability of a tweet being positive and the probability of \"good\" being in a tweet.\n",
        "\n",
        "Similarly, if we want to obtain the opposite \"is this a negative tweet given that it contains the word \"boring\" \"\n",
        "we get\n",
        "\n",
        "$$ P(\\text{``negative\"}|\\text{``boring\" in tweet}) = \\frac{P(\\text{``boring\" in tweet}|\\text{``negative\"})P(\\text{``negative\"})}{P(\\text{``boring\" in tweet})} $$\n",
        "\n",
        "where we need the probability of \"boring\" being in a negative tweet, the probability of a tweet negative being and the probability of \"boring\" being in a tweet.\n",
        "\n",
        "We can now build a classifier where we compare those two probabilities and whichever is the larger one it's classified as\n",
        "\n",
        "if P(\"positive\"|\"good\" in tweet) $>$ P(\"negative\"|\"boring\" in tweet)\n",
        "    \n",
        "   Tweet is positive\n",
        "\n",
        "else\n",
        "   \n",
        "   Tweet is negative\n",
        "\n",
        "Now let's expand this to handle multiple features and put the Naive assumption into bayes theroem. This means that if features are independent we have\n",
        "\n",
        "$$ P(A,B) = P(A)P(B) $$\n",
        "\n",
        "This gives us:\n",
        "\n",
        "$$ P(A|b_1,b_2,...,b_n) = \\frac{P(b_1|A)P(b_2|A)...P(b_n|A)P(A)}{P(b_1)P(b_2)...P(b_n)} $$\n",
        "\n",
        "or\n",
        "\n",
        "$$ P(A|b_1,b_2,...,b_n) = \\frac{\\prod_i^nP(b_i|A)P(A)}{P(b_1)P(b_2)...P(b_n)} $$\n",
        "\n",
        "\n",
        "So with our previous example expanded with more words \"is this a positive tweet given that it contains the word \"good\" and \"interesting\" \" gives us\n",
        "\n",
        "$$ P(\\text{``positive\"}|\\text{``good\", ``interesting\" in tweet}) = \\frac{P(\\text{``good\" in tweet}|\\text{``positive\"})P(\\text{``interesting\" in tweet}|\\text{``positive\"})P(\\text{``positive\"})}{P(\\text{``good\" in tweet})P(\\text{``interesting\" in tweet})} $$\n",
        "\n",
        "As you can see the denominator remains constant which means we can remove it and the final classifier end up\n",
        "\n",
        "$$y = argmax_A P(A)\\prod_i^nP(b_i|A) $$"
      ]
    },
    {
      "cell_type": "markdown",
      "metadata": {
        "id": "L9YQNp7dDR_6"
      },
      "source": [
        "The dataset that you will be working with can be downloaded from the following link: https://uppsala.instructure.com/courses/66466/files"
      ]
    },
    {
      "cell_type": "code",
      "execution_count": 2,
      "metadata": {
        "ExecuteTime": {
          "end_time": "2024-01-07T13:37:14.983555600Z",
          "start_time": "2024-01-07T13:37:13.641527800Z"
        },
        "id": "G64fXU39DR_6"
      },
      "outputs": [],
      "source": [
        "#stuff to import\n",
        "import pandas as pd\n",
        "import numpy as np\n",
        "from sklearn.model_selection import train_test_split"
      ]
    },
    {
      "cell_type": "markdown",
      "metadata": {
        "id": "4d0h95r4DR_8"
      },
      "source": [
        "#### Load the data"
      ]
    },
    {
      "cell_type": "code",
      "source": [
        "from google.colab import files\n",
        "uploaded = files.upload()"
      ],
      "metadata": {
        "colab": {
          "base_uri": "https://localhost:8080/",
          "height": 73
        },
        "id": "jG7T_r0qKPyy",
        "outputId": "a1b51b3a-2b9e-4392-fe46-dd3b67c3895c"
      },
      "execution_count": 4,
      "outputs": [
        {
          "output_type": "display_data",
          "data": {
            "text/plain": [
              "<IPython.core.display.HTML object>"
            ],
            "text/html": [
              "\n",
              "     <input type=\"file\" id=\"files-09386450-dbd1-4843-bca8-a4f2a53c2566\" name=\"files[]\" multiple disabled\n",
              "        style=\"border:none\" />\n",
              "     <output id=\"result-09386450-dbd1-4843-bca8-a4f2a53c2566\">\n",
              "      Upload widget is only available when the cell has been executed in the\n",
              "      current browser session. Please rerun this cell to enable.\n",
              "      </output>\n",
              "      <script>// Copyright 2017 Google LLC\n",
              "//\n",
              "// Licensed under the Apache License, Version 2.0 (the \"License\");\n",
              "// you may not use this file except in compliance with the License.\n",
              "// You may obtain a copy of the License at\n",
              "//\n",
              "//      http://www.apache.org/licenses/LICENSE-2.0\n",
              "//\n",
              "// Unless required by applicable law or agreed to in writing, software\n",
              "// distributed under the License is distributed on an \"AS IS\" BASIS,\n",
              "// WITHOUT WARRANTIES OR CONDITIONS OF ANY KIND, either express or implied.\n",
              "// See the License for the specific language governing permissions and\n",
              "// limitations under the License.\n",
              "\n",
              "/**\n",
              " * @fileoverview Helpers for google.colab Python module.\n",
              " */\n",
              "(function(scope) {\n",
              "function span(text, styleAttributes = {}) {\n",
              "  const element = document.createElement('span');\n",
              "  element.textContent = text;\n",
              "  for (const key of Object.keys(styleAttributes)) {\n",
              "    element.style[key] = styleAttributes[key];\n",
              "  }\n",
              "  return element;\n",
              "}\n",
              "\n",
              "// Max number of bytes which will be uploaded at a time.\n",
              "const MAX_PAYLOAD_SIZE = 100 * 1024;\n",
              "\n",
              "function _uploadFiles(inputId, outputId) {\n",
              "  const steps = uploadFilesStep(inputId, outputId);\n",
              "  const outputElement = document.getElementById(outputId);\n",
              "  // Cache steps on the outputElement to make it available for the next call\n",
              "  // to uploadFilesContinue from Python.\n",
              "  outputElement.steps = steps;\n",
              "\n",
              "  return _uploadFilesContinue(outputId);\n",
              "}\n",
              "\n",
              "// This is roughly an async generator (not supported in the browser yet),\n",
              "// where there are multiple asynchronous steps and the Python side is going\n",
              "// to poll for completion of each step.\n",
              "// This uses a Promise to block the python side on completion of each step,\n",
              "// then passes the result of the previous step as the input to the next step.\n",
              "function _uploadFilesContinue(outputId) {\n",
              "  const outputElement = document.getElementById(outputId);\n",
              "  const steps = outputElement.steps;\n",
              "\n",
              "  const next = steps.next(outputElement.lastPromiseValue);\n",
              "  return Promise.resolve(next.value.promise).then((value) => {\n",
              "    // Cache the last promise value to make it available to the next\n",
              "    // step of the generator.\n",
              "    outputElement.lastPromiseValue = value;\n",
              "    return next.value.response;\n",
              "  });\n",
              "}\n",
              "\n",
              "/**\n",
              " * Generator function which is called between each async step of the upload\n",
              " * process.\n",
              " * @param {string} inputId Element ID of the input file picker element.\n",
              " * @param {string} outputId Element ID of the output display.\n",
              " * @return {!Iterable<!Object>} Iterable of next steps.\n",
              " */\n",
              "function* uploadFilesStep(inputId, outputId) {\n",
              "  const inputElement = document.getElementById(inputId);\n",
              "  inputElement.disabled = false;\n",
              "\n",
              "  const outputElement = document.getElementById(outputId);\n",
              "  outputElement.innerHTML = '';\n",
              "\n",
              "  const pickedPromise = new Promise((resolve) => {\n",
              "    inputElement.addEventListener('change', (e) => {\n",
              "      resolve(e.target.files);\n",
              "    });\n",
              "  });\n",
              "\n",
              "  const cancel = document.createElement('button');\n",
              "  inputElement.parentElement.appendChild(cancel);\n",
              "  cancel.textContent = 'Cancel upload';\n",
              "  const cancelPromise = new Promise((resolve) => {\n",
              "    cancel.onclick = () => {\n",
              "      resolve(null);\n",
              "    };\n",
              "  });\n",
              "\n",
              "  // Wait for the user to pick the files.\n",
              "  const files = yield {\n",
              "    promise: Promise.race([pickedPromise, cancelPromise]),\n",
              "    response: {\n",
              "      action: 'starting',\n",
              "    }\n",
              "  };\n",
              "\n",
              "  cancel.remove();\n",
              "\n",
              "  // Disable the input element since further picks are not allowed.\n",
              "  inputElement.disabled = true;\n",
              "\n",
              "  if (!files) {\n",
              "    return {\n",
              "      response: {\n",
              "        action: 'complete',\n",
              "      }\n",
              "    };\n",
              "  }\n",
              "\n",
              "  for (const file of files) {\n",
              "    const li = document.createElement('li');\n",
              "    li.append(span(file.name, {fontWeight: 'bold'}));\n",
              "    li.append(span(\n",
              "        `(${file.type || 'n/a'}) - ${file.size} bytes, ` +\n",
              "        `last modified: ${\n",
              "            file.lastModifiedDate ? file.lastModifiedDate.toLocaleDateString() :\n",
              "                                    'n/a'} - `));\n",
              "    const percent = span('0% done');\n",
              "    li.appendChild(percent);\n",
              "\n",
              "    outputElement.appendChild(li);\n",
              "\n",
              "    const fileDataPromise = new Promise((resolve) => {\n",
              "      const reader = new FileReader();\n",
              "      reader.onload = (e) => {\n",
              "        resolve(e.target.result);\n",
              "      };\n",
              "      reader.readAsArrayBuffer(file);\n",
              "    });\n",
              "    // Wait for the data to be ready.\n",
              "    let fileData = yield {\n",
              "      promise: fileDataPromise,\n",
              "      response: {\n",
              "        action: 'continue',\n",
              "      }\n",
              "    };\n",
              "\n",
              "    // Use a chunked sending to avoid message size limits. See b/62115660.\n",
              "    let position = 0;\n",
              "    do {\n",
              "      const length = Math.min(fileData.byteLength - position, MAX_PAYLOAD_SIZE);\n",
              "      const chunk = new Uint8Array(fileData, position, length);\n",
              "      position += length;\n",
              "\n",
              "      const base64 = btoa(String.fromCharCode.apply(null, chunk));\n",
              "      yield {\n",
              "        response: {\n",
              "          action: 'append',\n",
              "          file: file.name,\n",
              "          data: base64,\n",
              "        },\n",
              "      };\n",
              "\n",
              "      let percentDone = fileData.byteLength === 0 ?\n",
              "          100 :\n",
              "          Math.round((position / fileData.byteLength) * 100);\n",
              "      percent.textContent = `${percentDone}% done`;\n",
              "\n",
              "    } while (position < fileData.byteLength);\n",
              "  }\n",
              "\n",
              "  // All done.\n",
              "  yield {\n",
              "    response: {\n",
              "      action: 'complete',\n",
              "    }\n",
              "  };\n",
              "}\n",
              "\n",
              "scope.google = scope.google || {};\n",
              "scope.google.colab = scope.google.colab || {};\n",
              "scope.google.colab._files = {\n",
              "  _uploadFiles,\n",
              "  _uploadFilesContinue,\n",
              "};\n",
              "})(self);\n",
              "</script> "
            ]
          },
          "metadata": {}
        },
        {
          "output_type": "stream",
          "name": "stdout",
          "text": [
            "Saving data_for_theoretical_notebook_1.csv to data_for_theoretical_notebook_1.csv\n"
          ]
        }
      ]
    },
    {
      "cell_type": "code",
      "execution_count": 5,
      "metadata": {
        "ExecuteTime": {
          "end_time": "2024-01-07T13:59:08.449137900Z",
          "start_time": "2024-01-07T13:59:07.974610Z"
        },
        "id": "qnJicfnrDR_9",
        "colab": {
          "base_uri": "https://localhost:8080/",
          "height": 423
        },
        "outputId": "f48e221e-2052-46c6-87c3-58ca6cc55a7b"
      },
      "outputs": [
        {
          "output_type": "execute_result",
          "data": {
            "text/plain": [
              "        Unnamed: 0  sentiment  \\\n",
              "0                0          0   \n",
              "1                1          0   \n",
              "2                2          1   \n",
              "3                3          0   \n",
              "4                4          0   \n",
              "...            ...        ...   \n",
              "199374      199995          1   \n",
              "199375      199996          1   \n",
              "199376      199997          0   \n",
              "199377      199998          1   \n",
              "199378      199999          1   \n",
              "\n",
              "                                                    tweet  \\\n",
              "0       Hanging out with my friend waiting for a rain ...   \n",
              "1                        yesdir... layin not feelin good    \n",
              "2                                       Hae a nice night    \n",
              "3                   Tay...where are you? miss you SO bad    \n",
              "4                                   @NeilMcDaid shizer!     \n",
              "...                                                   ...   \n",
              "199374            Eating cobb salad w my Patricia at CF.    \n",
              "199375  @hallowed_ground ever been to fremont? You cou...   \n",
              "199376  @StacyLynn1985 as far as anything to scrape th...   \n",
              "199377  ksh scripting today to produce html code to di...   \n",
              "199378               @frelle  Ohhh I've love a Chai too!    \n",
              "\n",
              "                                         processed_tweets  \n",
              "0       anging friend waiting rain band looking huge s...  \n",
              "1                                 esdir layin feelin good  \n",
              "2                                              nice night  \n",
              "3                                            aywhere miss  \n",
              "4                                       neilmcdaid shizer  \n",
              "...                                                   ...  \n",
              "199374                  ating cobb salad patricia compare  \n",
              "199375             hallowedground ever fremont could help  \n",
              "199376           stacylynn1985 anything scrape teeth clue  \n",
              "199377  scripting today produce html code display pgra...  \n",
              "199378                              frelle ohhh love chai  \n",
              "\n",
              "[199379 rows x 4 columns]"
            ],
            "text/html": [
              "\n",
              "  <div id=\"df-48fa937d-e5e2-406b-9216-73fe3464a583\" class=\"colab-df-container\">\n",
              "    <div>\n",
              "<style scoped>\n",
              "    .dataframe tbody tr th:only-of-type {\n",
              "        vertical-align: middle;\n",
              "    }\n",
              "\n",
              "    .dataframe tbody tr th {\n",
              "        vertical-align: top;\n",
              "    }\n",
              "\n",
              "    .dataframe thead th {\n",
              "        text-align: right;\n",
              "    }\n",
              "</style>\n",
              "<table border=\"1\" class=\"dataframe\">\n",
              "  <thead>\n",
              "    <tr style=\"text-align: right;\">\n",
              "      <th></th>\n",
              "      <th>Unnamed: 0</th>\n",
              "      <th>sentiment</th>\n",
              "      <th>tweet</th>\n",
              "      <th>processed_tweets</th>\n",
              "    </tr>\n",
              "  </thead>\n",
              "  <tbody>\n",
              "    <tr>\n",
              "      <th>0</th>\n",
              "      <td>0</td>\n",
              "      <td>0</td>\n",
              "      <td>Hanging out with my friend waiting for a rain ...</td>\n",
              "      <td>anging friend waiting rain band looking huge s...</td>\n",
              "    </tr>\n",
              "    <tr>\n",
              "      <th>1</th>\n",
              "      <td>1</td>\n",
              "      <td>0</td>\n",
              "      <td>yesdir... layin not feelin good</td>\n",
              "      <td>esdir layin feelin good</td>\n",
              "    </tr>\n",
              "    <tr>\n",
              "      <th>2</th>\n",
              "      <td>2</td>\n",
              "      <td>1</td>\n",
              "      <td>Hae a nice night</td>\n",
              "      <td>nice night</td>\n",
              "    </tr>\n",
              "    <tr>\n",
              "      <th>3</th>\n",
              "      <td>3</td>\n",
              "      <td>0</td>\n",
              "      <td>Tay...where are you? miss you SO bad</td>\n",
              "      <td>aywhere miss</td>\n",
              "    </tr>\n",
              "    <tr>\n",
              "      <th>4</th>\n",
              "      <td>4</td>\n",
              "      <td>0</td>\n",
              "      <td>@NeilMcDaid shizer!</td>\n",
              "      <td>neilmcdaid shizer</td>\n",
              "    </tr>\n",
              "    <tr>\n",
              "      <th>...</th>\n",
              "      <td>...</td>\n",
              "      <td>...</td>\n",
              "      <td>...</td>\n",
              "      <td>...</td>\n",
              "    </tr>\n",
              "    <tr>\n",
              "      <th>199374</th>\n",
              "      <td>199995</td>\n",
              "      <td>1</td>\n",
              "      <td>Eating cobb salad w my Patricia at CF.</td>\n",
              "      <td>ating cobb salad patricia compare</td>\n",
              "    </tr>\n",
              "    <tr>\n",
              "      <th>199375</th>\n",
              "      <td>199996</td>\n",
              "      <td>1</td>\n",
              "      <td>@hallowed_ground ever been to fremont? You cou...</td>\n",
              "      <td>hallowedground ever fremont could help</td>\n",
              "    </tr>\n",
              "    <tr>\n",
              "      <th>199376</th>\n",
              "      <td>199997</td>\n",
              "      <td>0</td>\n",
              "      <td>@StacyLynn1985 as far as anything to scrape th...</td>\n",
              "      <td>stacylynn1985 anything scrape teeth clue</td>\n",
              "    </tr>\n",
              "    <tr>\n",
              "      <th>199377</th>\n",
              "      <td>199998</td>\n",
              "      <td>1</td>\n",
              "      <td>ksh scripting today to produce html code to di...</td>\n",
              "      <td>scripting today produce html code display pgra...</td>\n",
              "    </tr>\n",
              "    <tr>\n",
              "      <th>199378</th>\n",
              "      <td>199999</td>\n",
              "      <td>1</td>\n",
              "      <td>@frelle  Ohhh I've love a Chai too!</td>\n",
              "      <td>frelle ohhh love chai</td>\n",
              "    </tr>\n",
              "  </tbody>\n",
              "</table>\n",
              "<p>199379 rows × 4 columns</p>\n",
              "</div>\n",
              "    <div class=\"colab-df-buttons\">\n",
              "\n",
              "  <div class=\"colab-df-container\">\n",
              "    <button class=\"colab-df-convert\" onclick=\"convertToInteractive('df-48fa937d-e5e2-406b-9216-73fe3464a583')\"\n",
              "            title=\"Convert this dataframe to an interactive table.\"\n",
              "            style=\"display:none;\">\n",
              "\n",
              "  <svg xmlns=\"http://www.w3.org/2000/svg\" height=\"24px\" viewBox=\"0 -960 960 960\">\n",
              "    <path d=\"M120-120v-720h720v720H120Zm60-500h600v-160H180v160Zm220 220h160v-160H400v160Zm0 220h160v-160H400v160ZM180-400h160v-160H180v160Zm440 0h160v-160H620v160ZM180-180h160v-160H180v160Zm440 0h160v-160H620v160Z\"/>\n",
              "  </svg>\n",
              "    </button>\n",
              "\n",
              "  <style>\n",
              "    .colab-df-container {\n",
              "      display:flex;\n",
              "      gap: 12px;\n",
              "    }\n",
              "\n",
              "    .colab-df-convert {\n",
              "      background-color: #E8F0FE;\n",
              "      border: none;\n",
              "      border-radius: 50%;\n",
              "      cursor: pointer;\n",
              "      display: none;\n",
              "      fill: #1967D2;\n",
              "      height: 32px;\n",
              "      padding: 0 0 0 0;\n",
              "      width: 32px;\n",
              "    }\n",
              "\n",
              "    .colab-df-convert:hover {\n",
              "      background-color: #E2EBFA;\n",
              "      box-shadow: 0px 1px 2px rgba(60, 64, 67, 0.3), 0px 1px 3px 1px rgba(60, 64, 67, 0.15);\n",
              "      fill: #174EA6;\n",
              "    }\n",
              "\n",
              "    .colab-df-buttons div {\n",
              "      margin-bottom: 4px;\n",
              "    }\n",
              "\n",
              "    [theme=dark] .colab-df-convert {\n",
              "      background-color: #3B4455;\n",
              "      fill: #D2E3FC;\n",
              "    }\n",
              "\n",
              "    [theme=dark] .colab-df-convert:hover {\n",
              "      background-color: #434B5C;\n",
              "      box-shadow: 0px 1px 3px 1px rgba(0, 0, 0, 0.15);\n",
              "      filter: drop-shadow(0px 1px 2px rgba(0, 0, 0, 0.3));\n",
              "      fill: #FFFFFF;\n",
              "    }\n",
              "  </style>\n",
              "\n",
              "    <script>\n",
              "      const buttonEl =\n",
              "        document.querySelector('#df-48fa937d-e5e2-406b-9216-73fe3464a583 button.colab-df-convert');\n",
              "      buttonEl.style.display =\n",
              "        google.colab.kernel.accessAllowed ? 'block' : 'none';\n",
              "\n",
              "      async function convertToInteractive(key) {\n",
              "        const element = document.querySelector('#df-48fa937d-e5e2-406b-9216-73fe3464a583');\n",
              "        const dataTable =\n",
              "          await google.colab.kernel.invokeFunction('convertToInteractive',\n",
              "                                                    [key], {});\n",
              "        if (!dataTable) return;\n",
              "\n",
              "        const docLinkHtml = 'Like what you see? Visit the ' +\n",
              "          '<a target=\"_blank\" href=https://colab.research.google.com/notebooks/data_table.ipynb>data table notebook</a>'\n",
              "          + ' to learn more about interactive tables.';\n",
              "        element.innerHTML = '';\n",
              "        dataTable['output_type'] = 'display_data';\n",
              "        await google.colab.output.renderOutput(dataTable, element);\n",
              "        const docLink = document.createElement('div');\n",
              "        docLink.innerHTML = docLinkHtml;\n",
              "        element.appendChild(docLink);\n",
              "      }\n",
              "    </script>\n",
              "  </div>\n",
              "\n",
              "\n",
              "<div id=\"df-c755848c-3571-4985-8348-cd284c3fd157\">\n",
              "  <button class=\"colab-df-quickchart\" onclick=\"quickchart('df-c755848c-3571-4985-8348-cd284c3fd157')\"\n",
              "            title=\"Suggest charts\"\n",
              "            style=\"display:none;\">\n",
              "\n",
              "<svg xmlns=\"http://www.w3.org/2000/svg\" height=\"24px\"viewBox=\"0 0 24 24\"\n",
              "     width=\"24px\">\n",
              "    <g>\n",
              "        <path d=\"M19 3H5c-1.1 0-2 .9-2 2v14c0 1.1.9 2 2 2h14c1.1 0 2-.9 2-2V5c0-1.1-.9-2-2-2zM9 17H7v-7h2v7zm4 0h-2V7h2v10zm4 0h-2v-4h2v4z\"/>\n",
              "    </g>\n",
              "</svg>\n",
              "  </button>\n",
              "\n",
              "<style>\n",
              "  .colab-df-quickchart {\n",
              "      --bg-color: #E8F0FE;\n",
              "      --fill-color: #1967D2;\n",
              "      --hover-bg-color: #E2EBFA;\n",
              "      --hover-fill-color: #174EA6;\n",
              "      --disabled-fill-color: #AAA;\n",
              "      --disabled-bg-color: #DDD;\n",
              "  }\n",
              "\n",
              "  [theme=dark] .colab-df-quickchart {\n",
              "      --bg-color: #3B4455;\n",
              "      --fill-color: #D2E3FC;\n",
              "      --hover-bg-color: #434B5C;\n",
              "      --hover-fill-color: #FFFFFF;\n",
              "      --disabled-bg-color: #3B4455;\n",
              "      --disabled-fill-color: #666;\n",
              "  }\n",
              "\n",
              "  .colab-df-quickchart {\n",
              "    background-color: var(--bg-color);\n",
              "    border: none;\n",
              "    border-radius: 50%;\n",
              "    cursor: pointer;\n",
              "    display: none;\n",
              "    fill: var(--fill-color);\n",
              "    height: 32px;\n",
              "    padding: 0;\n",
              "    width: 32px;\n",
              "  }\n",
              "\n",
              "  .colab-df-quickchart:hover {\n",
              "    background-color: var(--hover-bg-color);\n",
              "    box-shadow: 0 1px 2px rgba(60, 64, 67, 0.3), 0 1px 3px 1px rgba(60, 64, 67, 0.15);\n",
              "    fill: var(--button-hover-fill-color);\n",
              "  }\n",
              "\n",
              "  .colab-df-quickchart-complete:disabled,\n",
              "  .colab-df-quickchart-complete:disabled:hover {\n",
              "    background-color: var(--disabled-bg-color);\n",
              "    fill: var(--disabled-fill-color);\n",
              "    box-shadow: none;\n",
              "  }\n",
              "\n",
              "  .colab-df-spinner {\n",
              "    border: 2px solid var(--fill-color);\n",
              "    border-color: transparent;\n",
              "    border-bottom-color: var(--fill-color);\n",
              "    animation:\n",
              "      spin 1s steps(1) infinite;\n",
              "  }\n",
              "\n",
              "  @keyframes spin {\n",
              "    0% {\n",
              "      border-color: transparent;\n",
              "      border-bottom-color: var(--fill-color);\n",
              "      border-left-color: var(--fill-color);\n",
              "    }\n",
              "    20% {\n",
              "      border-color: transparent;\n",
              "      border-left-color: var(--fill-color);\n",
              "      border-top-color: var(--fill-color);\n",
              "    }\n",
              "    30% {\n",
              "      border-color: transparent;\n",
              "      border-left-color: var(--fill-color);\n",
              "      border-top-color: var(--fill-color);\n",
              "      border-right-color: var(--fill-color);\n",
              "    }\n",
              "    40% {\n",
              "      border-color: transparent;\n",
              "      border-right-color: var(--fill-color);\n",
              "      border-top-color: var(--fill-color);\n",
              "    }\n",
              "    60% {\n",
              "      border-color: transparent;\n",
              "      border-right-color: var(--fill-color);\n",
              "    }\n",
              "    80% {\n",
              "      border-color: transparent;\n",
              "      border-right-color: var(--fill-color);\n",
              "      border-bottom-color: var(--fill-color);\n",
              "    }\n",
              "    90% {\n",
              "      border-color: transparent;\n",
              "      border-bottom-color: var(--fill-color);\n",
              "    }\n",
              "  }\n",
              "</style>\n",
              "\n",
              "  <script>\n",
              "    async function quickchart(key) {\n",
              "      const quickchartButtonEl =\n",
              "        document.querySelector('#' + key + ' button');\n",
              "      quickchartButtonEl.disabled = true;  // To prevent multiple clicks.\n",
              "      quickchartButtonEl.classList.add('colab-df-spinner');\n",
              "      try {\n",
              "        const charts = await google.colab.kernel.invokeFunction(\n",
              "            'suggestCharts', [key], {});\n",
              "      } catch (error) {\n",
              "        console.error('Error during call to suggestCharts:', error);\n",
              "      }\n",
              "      quickchartButtonEl.classList.remove('colab-df-spinner');\n",
              "      quickchartButtonEl.classList.add('colab-df-quickchart-complete');\n",
              "    }\n",
              "    (() => {\n",
              "      let quickchartButtonEl =\n",
              "        document.querySelector('#df-c755848c-3571-4985-8348-cd284c3fd157 button');\n",
              "      quickchartButtonEl.style.display =\n",
              "        google.colab.kernel.accessAllowed ? 'block' : 'none';\n",
              "    })();\n",
              "  </script>\n",
              "</div>\n",
              "\n",
              "  <div id=\"id_43f6cf3f-923d-4c25-810e-0a863ae6b207\">\n",
              "    <style>\n",
              "      .colab-df-generate {\n",
              "        background-color: #E8F0FE;\n",
              "        border: none;\n",
              "        border-radius: 50%;\n",
              "        cursor: pointer;\n",
              "        display: none;\n",
              "        fill: #1967D2;\n",
              "        height: 32px;\n",
              "        padding: 0 0 0 0;\n",
              "        width: 32px;\n",
              "      }\n",
              "\n",
              "      .colab-df-generate:hover {\n",
              "        background-color: #E2EBFA;\n",
              "        box-shadow: 0px 1px 2px rgba(60, 64, 67, 0.3), 0px 1px 3px 1px rgba(60, 64, 67, 0.15);\n",
              "        fill: #174EA6;\n",
              "      }\n",
              "\n",
              "      [theme=dark] .colab-df-generate {\n",
              "        background-color: #3B4455;\n",
              "        fill: #D2E3FC;\n",
              "      }\n",
              "\n",
              "      [theme=dark] .colab-df-generate:hover {\n",
              "        background-color: #434B5C;\n",
              "        box-shadow: 0px 1px 3px 1px rgba(0, 0, 0, 0.15);\n",
              "        filter: drop-shadow(0px 1px 2px rgba(0, 0, 0, 0.3));\n",
              "        fill: #FFFFFF;\n",
              "      }\n",
              "    </style>\n",
              "    <button class=\"colab-df-generate\" onclick=\"generateWithVariable('tweets')\"\n",
              "            title=\"Generate code using this dataframe.\"\n",
              "            style=\"display:none;\">\n",
              "\n",
              "  <svg xmlns=\"http://www.w3.org/2000/svg\" height=\"24px\"viewBox=\"0 0 24 24\"\n",
              "       width=\"24px\">\n",
              "    <path d=\"M7,19H8.4L18.45,9,17,7.55,7,17.6ZM5,21V16.75L18.45,3.32a2,2,0,0,1,2.83,0l1.4,1.43a1.91,1.91,0,0,1,.58,1.4,1.91,1.91,0,0,1-.58,1.4L9.25,21ZM18.45,9,17,7.55Zm-12,3A5.31,5.31,0,0,0,4.9,8.1,5.31,5.31,0,0,0,1,6.5,5.31,5.31,0,0,0,4.9,4.9,5.31,5.31,0,0,0,6.5,1,5.31,5.31,0,0,0,8.1,4.9,5.31,5.31,0,0,0,12,6.5,5.46,5.46,0,0,0,6.5,12Z\"/>\n",
              "  </svg>\n",
              "    </button>\n",
              "    <script>\n",
              "      (() => {\n",
              "      const buttonEl =\n",
              "        document.querySelector('#id_43f6cf3f-923d-4c25-810e-0a863ae6b207 button.colab-df-generate');\n",
              "      buttonEl.style.display =\n",
              "        google.colab.kernel.accessAllowed ? 'block' : 'none';\n",
              "\n",
              "      buttonEl.onclick = () => {\n",
              "        google.colab.notebook.generateWithVariable('tweets');\n",
              "      }\n",
              "      })();\n",
              "    </script>\n",
              "  </div>\n",
              "\n",
              "    </div>\n",
              "  </div>\n"
            ],
            "application/vnd.google.colaboratory.intrinsic+json": {
              "type": "dataframe",
              "variable_name": "tweets"
            }
          },
          "metadata": {},
          "execution_count": 5
        }
      ],
      "source": [
        "tweets=pd.read_csv('data_for_theoretical_notebook_1.csv',encoding='latin')\n",
        "tweets"
      ]
    },
    {
      "cell_type": "markdown",
      "metadata": {
        "id": "1TbssxUWDR_9"
      },
      "source": [
        "Now lets split the data into a training set and a test set using scikit-learns train_test_split function\n",
        "https://scikit-learn.org/stable/modules/generated/sklearn.model_selection.train_test_split.html"
      ]
    },
    {
      "cell_type": "code",
      "execution_count": 6,
      "metadata": {
        "ExecuteTime": {
          "end_time": "2024-01-07T13:37:59.025504100Z",
          "start_time": "2024-01-07T13:37:59.020482200Z"
        },
        "id": "IsWZQJhiDR_9",
        "colab": {
          "base_uri": "https://localhost:8080/"
        },
        "outputId": "f6e73e11-56cf-4820-bf91-dab094e69f88"
      },
      "outputs": [
        {
          "output_type": "stream",
          "name": "stdout",
          "text": [
            "Train set: 159503 tweets\n",
            "Test set: 39876 tweets\n"
          ]
        }
      ],
      "source": [
        "tweets_data = tweets[\"processed_tweets\"]\n",
        "tweets_labels = tweets[\"sentiment\"]\n",
        "\n",
        "#Split data into train_tweets, test_tweets, train_labels and test_labels\n",
        "# STUDENT CODE HERE\n",
        "train_tweets, test_tweets, train_labels, test_labels = train_test_split(\n",
        "    tweets_data, tweets_labels, test_size=0.2, random_state=42\n",
        ")\n",
        "print(f\"Train set: {len(train_tweets)} tweets\")\n",
        "print(f\"Test set: {len(test_tweets)} tweets\")\n",
        "# STUDENT CODE ENDS"
      ]
    },
    {
      "cell_type": "markdown",
      "metadata": {
        "id": "1E3ssB5_DR_-"
      },
      "source": [
        "What we need to build our classifier is \"probability of positive tweet\" P(pos) , \"probability of negative tweet\" P(neg), \"probability of word in tweet given tweet is positive\" P(w|pos) and \"probability of word in tweet given tweet is negative\" P(w|neg). Start by calculating the probability that a tweet is positive and negative respectively"
      ]
    },
    {
      "cell_type": "code",
      "execution_count": 15,
      "metadata": {
        "id": "KqOYyIB8DR_-",
        "colab": {
          "base_uri": "https://localhost:8080/"
        },
        "outputId": "233431cf-6fc7-4b2a-b6c3-3a2b61741f7f"
      },
      "outputs": [
        {
          "output_type": "stream",
          "name": "stdout",
          "text": [
            "0.49971662010542733\n",
            "0.5002833798945726\n"
          ]
        }
      ],
      "source": [
        "# STUDENT CODE HERE\n",
        "total_tweets = len(tweets_labels)\n",
        "num_pos = sum(tweets_labels == 1)\n",
        "num_neg = sum(tweets_labels == 0)\n",
        "P_pos = num_pos / total_tweets\n",
        "P_neg = num_neg / total_tweets\n",
        "print(P_pos)\n",
        "print(P_neg)\n",
        "# STUDENT CODE ENDS"
      ]
    },
    {
      "cell_type": "markdown",
      "metadata": {
        "id": "NDeDXjXLDR_-"
      },
      "source": [
        "For P(w|pos), P(w|neg) we need to count how many tweets each word occur in. Count the number of tweets each word occurs in and store in the word counter. An entry in the word counter is for instance {'good': 'Pos':150, 'Neg': 10} meaning good occurs in 150 positive tweets and 10 negative tweets. Be aware that we are not interested in calculating multiple occurrences of the same word in the same tweet. Also, we change the labels from 0 for \"Negative\" and 1 for \"Positive\" to \"Neg\" and \"Pos\" respectively. For each word convert it to lower case. You can use Python's [lower](https://www.w3schools.com/python/ref_string_lower.asp). Another handy Python string method is [split](https://www.w3schools.com/python/ref_string_split.asp)."
      ]
    },
    {
      "cell_type": "code",
      "execution_count": null,
      "metadata": {
        "id": "OVP97-wVDR__"
      },
      "outputs": [],
      "source": [
        "new_train_labels = train_labels.replace(0, \"Neg\", regex=True)\n",
        "final_train_labels = new_train_labels.replace(1, \"Pos\", regex=True)\n",
        "word_counter = {}\n",
        "for (tweet, label) in zip(train_tweets, final_train_labels):\n",
        "    # ... Count number of tweets each word occurs in and store in word_counter where an entry looks like ex. {'word': 'Pos':98, 'Neg':10}\n",
        "    # STUDENT CODE HERE\n",
        "\n",
        "\n",
        "\n",
        "    # STUDENT CODE ENDS"
      ]
    },
    {
      "cell_type": "markdown",
      "metadata": {
        "id": "D_VZzkMNDR__"
      },
      "source": [
        "Let's work with a smaller subset of words just to save up some time. Find the 1500 most occuring words in tweet data."
      ]
    },
    {
      "cell_type": "code",
      "execution_count": null,
      "metadata": {
        "id": "7W8jBS3iDR__"
      },
      "outputs": [],
      "source": [
        "nr_of_words_to_use = 1500\n",
        "popular_words = sorted(word_counter.items(), key=lambda x: x[1]['Pos'] + x[1]['Neg'], reverse=True)\n",
        "popular_words = [x[0] for x in popular_words[:nr_of_words_to_use]]"
      ]
    },
    {
      "cell_type": "markdown",
      "metadata": {
        "id": "MzNwpVvBDR__"
      },
      "source": [
        "Now let's compute P(w|pos), P(w|neg) for the popular words"
      ]
    },
    {
      "cell_type": "code",
      "execution_count": null,
      "metadata": {
        "id": "sUT5zQ0mDR__"
      },
      "outputs": [],
      "source": [
        "P_w_given_pos = {}\n",
        "P_w_given_neg = {}\n",
        "for word in popular_words:\n",
        "    #  Calculate the two probabilities\n",
        "    # STUDENT CODE HERE\n",
        "\n",
        "\n",
        "    # STUDENT CODE ENDS\n"
      ]
    },
    {
      "cell_type": "code",
      "execution_count": null,
      "metadata": {
        "id": "VerS1XdIDSAA"
      },
      "outputs": [],
      "source": [
        "classifier = {\n",
        "    'basis'  : popular_words,\n",
        "    'P(pos)'   : P_pos,\n",
        "    'P(neg)'   : P_neg,\n",
        "    'P(w|pos)' : P_w_given_pos,\n",
        "    'P(w|neg)' : P_w_given_neg\n",
        "    }"
      ]
    },
    {
      "cell_type": "markdown",
      "metadata": {
        "id": "YzgyumZVDSAA"
      },
      "source": [
        "#### Train and predict"
      ]
    },
    {
      "cell_type": "markdown",
      "metadata": {
        "id": "gWZ_gO1sDSAA"
      },
      "source": [
        "Write a tweet_classifier function that takes your trained classifier and a tweet and returns wether it's about Positive or Negative using the popular words selected. Note that if there are words in the basis words in our classifier that are not in the tweet we have the opposite probabilities i.e P(w_1 occurs )* P(w_2 does not occur) * .... if w_1 occurs and w_2 does not occur. The function should return wether the tweet is Positive or Negative. i.e 'Pos' or 'Neg'."
      ]
    },
    {
      "cell_type": "code",
      "execution_count": null,
      "metadata": {
        "id": "M9AXr9n-DSAA"
      },
      "outputs": [],
      "source": [
        "def tweet_classifier(tweet, classifier_dict):\n",
        "    \"\"\" param tweet: string containing tweet message\n",
        "        param classifier: dict containing 'basis' - training words\n",
        "                                          'P(pos)' - class probabilities\n",
        "                                          'P(neg)' - class probabilities\n",
        "                                          'P(w|pos)' - conditional probabilities\n",
        "                                          'P(w|neg)' - conditional probabilities\n",
        "\n",
        "        return: either 'Pos' or 'Neg'\n",
        "    \"\"\"\n",
        "    # ... Code for classifying tweets using the naive bayes classifier\n",
        "\n",
        "    # STUDENT CODE HERE\n",
        "\n",
        "\n",
        "\n",
        "\n",
        "\n",
        "\n",
        "    # STUDENT CODE ENDS"
      ]
    },
    {
      "cell_type": "code",
      "execution_count": null,
      "metadata": {
        "id": "FmV_jPSVDSAA"
      },
      "outputs": [],
      "source": [
        "def test_classifier(classifier, test_tweets, test_labels):\n",
        "    total = len(test_tweets)\n",
        "    correct = 0\n",
        "    for (tweet,label) in zip(test_tweets, test_labels):\n",
        "        predicted = tweet_classifier(tweet,classifier)\n",
        "        if predicted == label:\n",
        "            correct = correct + 1\n",
        "    return(correct/total)"
      ]
    },
    {
      "cell_type": "code",
      "execution_count": null,
      "metadata": {
        "id": "hrolfM8CDSAB"
      },
      "outputs": [],
      "source": [
        "new_test_labels = test_labels.replace(0, \"Neg\", regex=True)\n",
        "final_test_labels = new_test_labels.replace(1, \"Pos\", regex=True)"
      ]
    },
    {
      "cell_type": "markdown",
      "metadata": {
        "id": "TV8_udHKDSAB"
      },
      "source": [
        "This will take a while."
      ]
    },
    {
      "cell_type": "code",
      "execution_count": null,
      "metadata": {
        "id": "BE-Cw3oWDSAB"
      },
      "outputs": [],
      "source": [
        "acc = test_classifier(classifier, test_tweets, final_test_labels)\n",
        "print(f\"Accuracy: {acc:.4f}\")"
      ]
    },
    {
      "cell_type": "markdown",
      "metadata": {
        "id": "P2xdtBHWDSAB"
      },
      "source": [
        "#### Optional work\n",
        "\n",
        "In basic sentiment analysis classifications we have 3 classes \"Positive\", \"Negative\" and \"Neutral\". Although because it is challenging to create the \"Neutral\" class. Try to improve the accuracy by filtering the dataset from the perspective of removing words that indicate neutrality."
      ]
    },
    {
      "cell_type": "code",
      "execution_count": null,
      "metadata": {
        "id": "c_npfChLDSAB"
      },
      "outputs": [],
      "source": []
    }
  ],
  "metadata": {
    "kernelspec": {
      "display_name": "venv",
      "language": "python",
      "name": "python3"
    },
    "language_info": {
      "codemirror_mode": {
        "name": "ipython",
        "version": 3
      },
      "file_extension": ".py",
      "mimetype": "text/x-python",
      "name": "python",
      "nbconvert_exporter": "python",
      "pygments_lexer": "ipython3",
      "version": "3.12.4"
    },
    "colab": {
      "provenance": []
    }
  },
  "nbformat": 4,
  "nbformat_minor": 0
}